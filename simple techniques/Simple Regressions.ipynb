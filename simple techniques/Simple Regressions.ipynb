{
 "cells": [
  {
   "cell_type": "markdown",
   "metadata": {},
   "source": [
    "# Simple Analyses for Regression\n",
    "\n",
    "This notebook contains a variety of simple analyses - simple regressions, random forests, GMMs etc...\n",
    "\n",
    "## 1. Linear Regression\n",
    "\n",
    "This approach seeks to fit a straight line of $mx + b$ though the dataset."
   ]
  },
  {
   "cell_type": "code",
   "execution_count": 28,
   "id": "ebdcc61a",
   "metadata": {},
   "outputs": [],
   "source": [
    "import pandas as pd\n",
    "import numpy as np\n",
    "from tqdm import tqdm\n",
    "from sklearn.linear_model import LinearRegression, Ridge\n",
    "from sklearn.model_selection import train_test_split\n",
    "from sklearn.metrics import mean_squared_error, r2_score, mean_squared_log_error\n",
    "from sklearn.datasets import load_diabetes\n",
    "import matplotlib.pyplot as plt\n",
    "from collections import namedtuple"
   ]
  },
  {
   "cell_type": "code",
   "execution_count": 2,
   "metadata": {},
   "outputs": [
    {
     "data": {
      "text/html": [
       "<div>\n",
       "<style scoped>\n",
       "    .dataframe tbody tr th:only-of-type {\n",
       "        vertical-align: middle;\n",
       "    }\n",
       "\n",
       "    .dataframe tbody tr th {\n",
       "        vertical-align: top;\n",
       "    }\n",
       "\n",
       "    .dataframe thead th {\n",
       "        text-align: right;\n",
       "    }\n",
       "</style>\n",
       "<table border=\"1\" class=\"dataframe\">\n",
       "  <thead>\n",
       "    <tr style=\"text-align: right;\">\n",
       "      <th></th>\n",
       "      <th>age</th>\n",
       "      <th>sex</th>\n",
       "      <th>bmi</th>\n",
       "      <th>bp</th>\n",
       "      <th>s1</th>\n",
       "      <th>s2</th>\n",
       "      <th>s3</th>\n",
       "      <th>s4</th>\n",
       "      <th>s5</th>\n",
       "      <th>s6</th>\n",
       "      <th>target</th>\n",
       "    </tr>\n",
       "  </thead>\n",
       "  <tbody>\n",
       "    <tr>\n",
       "      <th>0</th>\n",
       "      <td>0.038076</td>\n",
       "      <td>0.050680</td>\n",
       "      <td>0.061696</td>\n",
       "      <td>0.021872</td>\n",
       "      <td>-0.044223</td>\n",
       "      <td>-0.034821</td>\n",
       "      <td>-0.043401</td>\n",
       "      <td>-0.002592</td>\n",
       "      <td>0.019907</td>\n",
       "      <td>-0.017646</td>\n",
       "      <td>151.0</td>\n",
       "    </tr>\n",
       "    <tr>\n",
       "      <th>1</th>\n",
       "      <td>-0.001882</td>\n",
       "      <td>-0.044642</td>\n",
       "      <td>-0.051474</td>\n",
       "      <td>-0.026328</td>\n",
       "      <td>-0.008449</td>\n",
       "      <td>-0.019163</td>\n",
       "      <td>0.074412</td>\n",
       "      <td>-0.039493</td>\n",
       "      <td>-0.068332</td>\n",
       "      <td>-0.092204</td>\n",
       "      <td>75.0</td>\n",
       "    </tr>\n",
       "    <tr>\n",
       "      <th>2</th>\n",
       "      <td>0.085299</td>\n",
       "      <td>0.050680</td>\n",
       "      <td>0.044451</td>\n",
       "      <td>-0.005670</td>\n",
       "      <td>-0.045599</td>\n",
       "      <td>-0.034194</td>\n",
       "      <td>-0.032356</td>\n",
       "      <td>-0.002592</td>\n",
       "      <td>0.002861</td>\n",
       "      <td>-0.025930</td>\n",
       "      <td>141.0</td>\n",
       "    </tr>\n",
       "    <tr>\n",
       "      <th>3</th>\n",
       "      <td>-0.089063</td>\n",
       "      <td>-0.044642</td>\n",
       "      <td>-0.011595</td>\n",
       "      <td>-0.036656</td>\n",
       "      <td>0.012191</td>\n",
       "      <td>0.024991</td>\n",
       "      <td>-0.036038</td>\n",
       "      <td>0.034309</td>\n",
       "      <td>0.022688</td>\n",
       "      <td>-0.009362</td>\n",
       "      <td>206.0</td>\n",
       "    </tr>\n",
       "    <tr>\n",
       "      <th>4</th>\n",
       "      <td>0.005383</td>\n",
       "      <td>-0.044642</td>\n",
       "      <td>-0.036385</td>\n",
       "      <td>0.021872</td>\n",
       "      <td>0.003935</td>\n",
       "      <td>0.015596</td>\n",
       "      <td>0.008142</td>\n",
       "      <td>-0.002592</td>\n",
       "      <td>-0.031988</td>\n",
       "      <td>-0.046641</td>\n",
       "      <td>135.0</td>\n",
       "    </tr>\n",
       "  </tbody>\n",
       "</table>\n",
       "</div>"
      ],
      "text/plain": [
       "        age       sex       bmi        bp        s1        s2        s3  \\\n",
       "0  0.038076  0.050680  0.061696  0.021872 -0.044223 -0.034821 -0.043401   \n",
       "1 -0.001882 -0.044642 -0.051474 -0.026328 -0.008449 -0.019163  0.074412   \n",
       "2  0.085299  0.050680  0.044451 -0.005670 -0.045599 -0.034194 -0.032356   \n",
       "3 -0.089063 -0.044642 -0.011595 -0.036656  0.012191  0.024991 -0.036038   \n",
       "4  0.005383 -0.044642 -0.036385  0.021872  0.003935  0.015596  0.008142   \n",
       "\n",
       "         s4        s5        s6  target  \n",
       "0 -0.002592  0.019907 -0.017646   151.0  \n",
       "1 -0.039493 -0.068332 -0.092204    75.0  \n",
       "2 -0.002592  0.002861 -0.025930   141.0  \n",
       "3  0.034309  0.022688 -0.009362   206.0  \n",
       "4 -0.002592 -0.031988 -0.046641   135.0  "
      ]
     },
     "execution_count": 2,
     "metadata": {},
     "output_type": "execute_result"
    }
   ],
   "source": [
    "dataset_df = load_diabetes(as_frame=True).frame\n",
    "dataset_df.head()"
   ]
  },
  {
   "cell_type": "code",
   "execution_count": 3,
   "metadata": {},
   "outputs": [],
   "source": [
    "training_data, test_data = train_test_split(dataset_df, test_size=0.2, random_state=42)"
   ]
  },
  {
   "cell_type": "code",
   "execution_count": 4,
   "metadata": {},
   "outputs": [],
   "source": [
    "training_data_X = training_data.drop(columns=[\"target\"])\n",
    "training_data_y = training_data[\"target\"]\n",
    "test_data_X = test_data.drop(columns=[\"target\"])\n",
    "test_data_y = test_data[\"target\"]\n"
   ]
  },
  {
   "cell_type": "code",
   "execution_count": 22,
   "metadata": {},
   "outputs": [
    {
     "name": "stdout",
     "output_type": "stream",
     "text": [
      "Mean Squared Log Error: 0.17696674535345125\n",
      "Root Mean Squared Error: 53.85344583676593\n",
      "R2 Score: 0.4526027629719195\n"
     ]
    }
   ],
   "source": [
    "model = LinearRegression().fit(training_data_X, training_data_y)\n",
    "results = model.predict(test_data_X)\n",
    "rmse = np.sqrt(mean_squared_error(test_data_y, results))\n",
    "msle = mean_squared_log_error(test_data_y, results)\n",
    "r2 = r2_score(test_data_y, results)\n",
    "\n",
    "print(f\"Mean Squared Log Error: {msle}\")\n",
    "print(f\"Root Mean Squared Error: {rmse}\")\n",
    "print(f\"R2 Score: {r2}\")"
   ]
  },
  {
   "cell_type": "markdown",
   "metadata": {},
   "source": [
    "## 2. Polynomial Regression\n",
    "\n",
    "For the model $ y = \\beta_0 + \\beta_1 x + \\beta_2 x^2 + \\beta_3x^3 + \\dots + \\beta_nx^n + \\epsilon $\n",
    "\n",
    "for a dependent variable $y$, where $x$ is a vector of independent variables with $\\beta$ parameters, and $\\epsilon$ random error.\n",
    "\n",
    "### 2.1 Polynomial Features\n",
    "\n",
    "This approach transforms the data as if it were a polynomial curve of a given degree. The now \"straightened\" function is then regressed linearly."
   ]
  },
  {
   "cell_type": "code",
   "execution_count": 7,
   "metadata": {},
   "outputs": [],
   "source": [
    "from sklearn.preprocessing import PolynomialFeatures"
   ]
  },
  {
   "cell_type": "code",
   "execution_count": 24,
   "metadata": {},
   "outputs": [
    {
     "name": "stderr",
     "output_type": "stream",
     "text": [
      "100%|██████████| 11/11 [00:42<00:00,  3.85s/it]\n"
     ]
    }
   ],
   "source": [
    "degrees = range(1, 12)\n",
    "\n",
    "polynomial_model = namedtuple(\"PolynomialModel\", [\"model\", \"degree\", \"rmse\",  \"r2\"])\n",
    "\n",
    "models = []\n",
    "\n",
    "for degree in tqdm(degrees):\n",
    "    polynomial_features = PolynomialFeatures(degree=degree, include_bias=False)\n",
    "    polynomial_features_x = polynomial_features.fit_transform(training_data_X)\n",
    "    model = LinearRegression().fit(polynomial_features_x, training_data_y)\n",
    "\n",
    "    results = model.predict(polynomial_features.fit_transform(test_data_X))\n",
    "    rmse = np.sqrt(mean_squared_error(test_data_y, results))\n",
    "    r2 = r2_score(test_data_y, results)\n",
    "    models.append(polynomial_model(model, degree, rmse, r2))"
   ]
  },
  {
   "cell_type": "code",
   "execution_count": 26,
   "metadata": {},
   "outputs": [
    {
     "data": {
      "image/png": "[encoded data removed]",
      "text/plain": [
       "<Figure size 640x480 with 1 Axes>"
      ]
     },
     "metadata": {},
     "output_type": "display_data"
    },
    {
     "name": "stdout",
     "output_type": "stream",
     "text": [
      "Best Model by RMSE: PolynomialModel(model=LinearRegression(), degree=1, rmse=53.85344583676593, r2=0.4526027629719195)\n",
      "Best Model by R2: PolynomialModel(model=LinearRegression(), degree=1, rmse=53.85344583676593, r2=0.4526027629719195)\n"
     ]
    }
   ],
   "source": [
    "plt.plot([model.degree for model in models], [model.rmse for model in models])\n",
    "plt.plot([model.degree for model in models], [model.r2 for model in models])\n",
    "plt.show()\n",
    "\n",
    "best_rmse_model = min(models, key=lambda model: model.rmse)\n",
    "best_r2_model = max(models, key=lambda model: model.r2)\n",
    "\n",
    "print(f\"Best Model by RMSE: {best_rmse_model}\")\n",
    "print(f\"Best Model by R2: {best_r2_model}\")"
   ]
  },
  {
   "cell_type": "markdown",
   "metadata": {},
   "source": [
    "Trying with Ridge regression instead"
   ]
  },
  {
   "cell_type": "code",
   "execution_count": 29,
   "metadata": {},
   "outputs": [
    {
     "name": "stderr",
     "output_type": "stream",
     "text": [
      "100%|██████████| 11/11 [00:05<00:00,  2.02it/s]\n"
     ]
    }
   ],
   "source": [
    "degrees = range(1, 12)\n",
    "\n",
    "polynomial_model = namedtuple(\"PolynomialModel\", [\"model\", \"degree\", \"rmse\",  \"r2\"])\n",
    "\n",
    "models = []\n",
    "\n",
    "for degree in tqdm(degrees):\n",
    "    polynomial_features = PolynomialFeatures(degree=degree, include_bias=False)\n",
    "    polynomial_features_x = polynomial_features.fit_transform(training_data_X)\n",
    "    model = Ridge().fit(polynomial_features_x, training_data_y)\n",
    "\n",
    "    results = model.predict(polynomial_features.fit_transform(test_data_X))\n",
    "    rmse = np.sqrt(mean_squared_error(test_data_y, results))\n",
    "    r2 = r2_score(test_data_y, results)\n",
    "    models.append(polynomial_model(model, degree, rmse, r2))"
   ]
  },
  {
   "cell_type": "code",
   "execution_count": 30,
   "metadata": {},
   "outputs": [
    {
     "data": {
      "image/png": "[encoded data removed]",
      "text/plain": [
       "<Figure size 640x480 with 1 Axes>"
      ]
     },
     "metadata": {},
     "output_type": "display_data"
    },
    {
     "name": "stdout",
     "output_type": "stream",
     "text": [
      "Best Model by RMSE: PolynomialModel(model=Ridge(), degree=10, rmse=55.453646300170874, r2=0.4195887483129498)\n",
      "Best Model by R2: PolynomialModel(model=Ridge(), degree=10, rmse=55.453646300170874, r2=0.4195887483129498)\n"
     ]
    }
   ],
   "source": [
    "plt.plot([model.degree for model in models], [model.rmse for model in models])\n",
    "plt.plot([model.degree for model in models], [model.r2 for model in models])\n",
    "plt.show()\n",
    "\n",
    "best_rmse_model = min(models, key=lambda model: model.rmse)\n",
    "best_r2_model = max(models, key=lambda model: model.r2)\n",
    "\n",
    "print(f\"Best Model by RMSE: {best_rmse_model}\")\n",
    "print(f\"Best Model by R2: {best_r2_model}\")"
   ]
  },
  {
   "cell_type": "markdown",
   "metadata": {},
   "source": [
    "### 2.2 Cubic Spline Implementation\n",
    "\n",
    "Uses a set of basis splines to help avoid Runge artefacts in higher order polynomial regression. Far less compute heavy for decent approximation."
   ]
  },
  {
   "cell_type": "code",
   "execution_count": 31,
   "metadata": {},
   "outputs": [],
   "source": [
    "from sklearn.preprocessing import SplineTransformer"
   ]
  },
  {
   "cell_type": "code",
   "execution_count": 45,
   "metadata": {},
   "outputs": [
    {
     "name": "stdout",
     "output_type": "stream",
     "text": [
      "R2 Score: -9.40783890298262\n",
      "Root Mean Squared Error: 234.82399767084385\n"
     ]
    }
   ],
   "source": [
    "splines = SplineTransformer(degree=3, n_knots=2, include_bias=False)\n",
    "splined_x = splines.fit_transform(training_data_X)\n",
    "model = LinearRegression().fit(splined_x, training_data_y)\n",
    "\n",
    "results = model.predict(splines.fit_transform(test_data_X))\n",
    "rmse = np.sqrt(mean_squared_error(test_data_y, results))\n",
    "r2 = r2_score(test_data_y, results)\n",
    "\n",
    "print(f\"R2 Score: {r2}\")\n",
    "print(f\"Root Mean Squared Error: {rmse}\")"
   ]
  },
  {
   "cell_type": "markdown",
   "metadata": {},
   "source": [
    "## Random Forests Regression\n",
    "\n",
    "A bagging approach of breaking down the data into a set of weak decision trees. predicted values are estimated based on a bagged output of the estimator trees."
   ]
  },
  {
   "cell_type": "code",
   "execution_count": 46,
   "metadata": {},
   "outputs": [],
   "source": [
    "from sklearn.ensemble import RandomForestRegressor"
   ]
  },
  {
   "cell_type": "code",
   "execution_count": 47,
   "metadata": {},
   "outputs": [
    {
     "name": "stdout",
     "output_type": "stream",
     "text": [
      "R2 Score: 0.4203164889104828\n",
      "Root Mean Squared Error: 55.41887050333278\n"
     ]
    }
   ],
   "source": [
    "rf_regression_model = RandomForestRegressor().fit(training_data_X, training_data_y)\n",
    "results = rf_regression_model.predict(test_data_X)\n",
    "\n",
    "rmse = np.sqrt(mean_squared_error(test_data_y, results))\n",
    "r2 = r2_score(test_data_y, results)\n",
    "\n",
    "print(f\"R2 Score: {r2}\")\n",
    "print(f\"Root Mean Squared Error: {rmse}\")"
   ]
  },
  {
   "cell_type": "markdown",
   "metadata": {},
   "source": [
    "## 4 Gradient Boosting\n",
    "\n",
    "### 4.1 Gradient Boosting for Regression"
   ]
  },
  {
   "cell_type": "code",
   "execution_count": 49,
   "metadata": {},
   "outputs": [],
   "source": [
    "from sklearn.ensemble import GradientBoostingRegressor"
   ]
  },
  {
   "cell_type": "code",
   "execution_count": 51,
   "metadata": {},
   "outputs": [
    {
     "name": "stdout",
     "output_type": "stream",
     "text": [
      "R2 Score: 0.40213237635177834\n",
      "Root Mean Squared Error: 56.28137698753728\n"
     ]
    }
   ],
   "source": [
    "model = GradientBoostingRegressor(learning_rate=0.01, loss=\"huber\").fit(training_data_X, training_data_y)\n",
    "results = model.predict(test_data_X)\n",
    "\n",
    "rmse = np.sqrt(mean_squared_error(test_data_y, results))\n",
    "r2 = r2_score(test_data_y, results)\n",
    "\n",
    "print(f\"R2 Score: {r2}\")\n",
    "print(f\"Root Mean Squared Error: {rmse}\")"
   ]
  },
  {
   "cell_type": "markdown",
   "metadata": {},
   "source": [
    "### 4.2 XGBoost"
   ]
  },
  {
   "cell_type": "code",
   "execution_count": 53,
   "metadata": {},
   "outputs": [],
   "source": [
    "from xgboost import XGBRegressor"
   ]
  },
  {
   "cell_type": "code",
   "execution_count": 55,
   "metadata": {},
   "outputs": [
    {
     "name": "stderr",
     "output_type": "stream",
     "text": [
      "/Users/richardstrange/opt/miniconda3/envs/ml-portfolio/lib/python3.10/site-packages/xgboost/data.py:312: FutureWarning: is_sparse is deprecated and will be removed in a future version. Check `isinstance(dtype, pd.SparseDtype)` instead.\n",
      "  if is_sparse(dtype):\n",
      "/Users/richardstrange/opt/miniconda3/envs/ml-portfolio/lib/python3.10/site-packages/xgboost/data.py:314: FutureWarning: is_categorical_dtype is deprecated and will be removed in a future version. Use isinstance(dtype, CategoricalDtype) instead\n",
      "  elif is_categorical_dtype(dtype) and enable_categorical:\n",
      "/Users/richardstrange/opt/miniconda3/envs/ml-portfolio/lib/python3.10/site-packages/xgboost/data.py:345: FutureWarning: is_categorical_dtype is deprecated and will be removed in a future version. Use isinstance(dtype, CategoricalDtype) instead\n",
      "  if is_categorical_dtype(dtype)\n",
      "/Users/richardstrange/opt/miniconda3/envs/ml-portfolio/lib/python3.10/site-packages/xgboost/data.py:336: FutureWarning: is_categorical_dtype is deprecated and will be removed in a future version. Use isinstance(dtype, CategoricalDtype) instead\n",
      "  return is_int or is_bool or is_float or is_categorical_dtype(dtype)\n",
      "/Users/richardstrange/opt/miniconda3/envs/ml-portfolio/lib/python3.10/site-packages/xgboost/data.py:440: FutureWarning: is_sparse is deprecated and will be removed in a future version. Check `isinstance(dtype, pd.SparseDtype)` instead.\n",
      "  if is_sparse(data):\n"
     ]
    },
    {
     "name": "stdout",
     "output_type": "stream",
     "text": [
      "R2 Score: 0.22857599305390852\n",
      "Root Mean Squared Error: 63.930598708670935\n"
     ]
    },
    {
     "name": "stderr",
     "output_type": "stream",
     "text": [
      "/Users/richardstrange/opt/miniconda3/envs/ml-portfolio/lib/python3.10/site-packages/xgboost/data.py:312: FutureWarning: is_sparse is deprecated and will be removed in a future version. Check `isinstance(dtype, pd.SparseDtype)` instead.\n",
      "  if is_sparse(dtype):\n",
      "/Users/richardstrange/opt/miniconda3/envs/ml-portfolio/lib/python3.10/site-packages/xgboost/data.py:314: FutureWarning: is_categorical_dtype is deprecated and will be removed in a future version. Use isinstance(dtype, CategoricalDtype) instead\n",
      "  elif is_categorical_dtype(dtype) and enable_categorical:\n",
      "/Users/richardstrange/opt/miniconda3/envs/ml-portfolio/lib/python3.10/site-packages/xgboost/data.py:345: FutureWarning: is_categorical_dtype is deprecated and will be removed in a future version. Use isinstance(dtype, CategoricalDtype) instead\n",
      "  if is_categorical_dtype(dtype)\n",
      "/Users/richardstrange/opt/miniconda3/envs/ml-portfolio/lib/python3.10/site-packages/xgboost/data.py:336: FutureWarning: is_categorical_dtype is deprecated and will be removed in a future version. Use isinstance(dtype, CategoricalDtype) instead\n",
      "  return is_int or is_bool or is_float or is_categorical_dtype(dtype)\n"
     ]
    }
   ],
   "source": [
    "model = XGBRegressor().fit(training_data_X, training_data_y)\n",
    "results = model.predict(test_data_X)\n",
    "\n",
    "rmse = np.sqrt(mean_squared_error(test_data_y, results))\n",
    "r2 = r2_score(test_data_y, results)\n",
    "\n",
    "print(f\"R2 Score: {r2}\")\n",
    "print(f\"Root Mean Squared Error: {rmse}\")"
   ]
  },
  {
   "cell_type": "markdown",
   "metadata": {},
   "source": [
    "## 5. Support Vector Machines"
   ]
  },
  {
   "cell_type": "code",
   "execution_count": 61,
   "metadata": {},
   "outputs": [],
   "source": [
    "from sklearn.svm import SVR"
   ]
  },
  {
   "cell_type": "code",
   "execution_count": 62,
   "metadata": {},
   "outputs": [
    {
     "name": "stdout",
     "output_type": "stream",
     "text": [
      "R2 Score: 0.18211365770500287\n",
      "Root Mean Squared Error: 65.82769899151941\n"
     ]
    }
   ],
   "source": [
    "model = SVR(kernel=\"rbf\").fit(training_data_X, training_data_y)\n",
    "results = model.predict(test_data_X)\n",
    "\n",
    "rmse = np.sqrt(mean_squared_error(test_data_y, results))\n",
    "r2 = r2_score(test_data_y, results)\n",
    "\n",
    "print(f\"R2 Score: {r2}\")\n",
    "print(f\"Root Mean Squared Error: {rmse}\")"
   ]
  },
  {
   "cell_type": "markdown",
   "metadata": {},
   "source": [
    "## 6. Lasso"
   ]
  },
  {
   "cell_type": "code",
   "execution_count": 66,
   "metadata": {},
   "outputs": [],
   "source": [
    "from sklearn.linear_model import Lasso"
   ]
  },
  {
   "cell_type": "code",
   "execution_count": 67,
   "metadata": {},
   "outputs": [
    {
     "name": "stdout",
     "output_type": "stream",
     "text": [
      "R2 Score: 0.3575918767219115\n",
      "Root Mean Squared Error: 58.340172450954185\n"
     ]
    }
   ],
   "source": [
    "model = Lasso().fit(training_data_X, training_data_y)\n",
    "results = model.predict(test_data_X)\n",
    "\n",
    "rmse = np.sqrt(mean_squared_error(test_data_y, results))\n",
    "r2 = r2_score(test_data_y, results)\n",
    "\n",
    "print(f\"R2 Score: {r2}\")\n",
    "print(f\"Root Mean Squared Error: {rmse}\")"
   ]
  },
  {
   "cell_type": "markdown",
   "metadata": {},
   "source": [
    "## 7. ElasticNet"
   ]
  },
  {
   "cell_type": "code",
   "execution_count": 68,
   "metadata": {},
   "outputs": [],
   "source": [
    "from sklearn.linear_model import ElasticNet"
   ]
  },
  {
   "cell_type": "code",
   "execution_count": 69,
   "metadata": {},
   "outputs": [
    {
     "name": "stdout",
     "output_type": "stream",
     "text": [
      "R2 Score: -0.0024652131111431164\n",
      "Root Mean Squared Error: 72.87806818015876\n"
     ]
    }
   ],
   "source": [
    "model = ElasticNet().fit(training_data_X, training_data_y)\n",
    "results = model.predict(test_data_X)\n",
    "\n",
    "rmse = np.sqrt(mean_squared_error(test_data_y, results))\n",
    "r2 = r2_score(test_data_y, results)\n",
    "\n",
    "print(f\"R2 Score: {r2}\")\n",
    "print(f\"Root Mean Squared Error: {rmse}\")"
   ]
  },
  {
   "cell_type": "markdown",
   "metadata": {},
   "source": [
    "## 8. Bayesian Ridge"
   ]
  },
  {
   "cell_type": "code",
   "execution_count": 71,
   "metadata": {},
   "outputs": [],
   "source": [
    "from sklearn.linear_model import BayesianRidge"
   ]
  },
  {
   "cell_type": "code",
   "execution_count": 72,
   "metadata": {},
   "outputs": [
    {
     "name": "stdout",
     "output_type": "stream",
     "text": [
      "R2 Score: 0.4579690718827284\n",
      "Root Mean Squared Error: 53.588824483791385\n"
     ]
    }
   ],
   "source": [
    "model = BayesianRidge().fit(training_data_X, training_data_y)\n",
    "results = model.predict(test_data_X)\n",
    "\n",
    "rmse = np.sqrt(mean_squared_error(test_data_y, results))\n",
    "r2 = r2_score(test_data_y, results)\n",
    "\n",
    "print(f\"R2 Score: {r2}\")\n",
    "print(f\"Root Mean Squared Error: {rmse}\")"
   ]
  },
  {
   "cell_type": "code",
   "execution_count": null,
   "metadata": {},
   "outputs": [],
   "source": []
  }
 ],
 "metadata": {
  "kernelspec": {
   "display_name": "ml-portfolio",
   "language": "python",
   "name": "python3"
  },
  "language_info": {
   "codemirror_mode": {
    "name": "ipython",
    "version": 3
   },
   "file_extension": ".py",
   "mimetype": "text/x-python",
   "name": "python",
   "nbconvert_exporter": "python",
   "pygments_lexer": "ipython3",
   "version": "3.10.13"
  }
 },
 "nbformat": 4,
 "nbformat_minor": 5
}
